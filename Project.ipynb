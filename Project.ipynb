{
 "cells": [
  {
   "cell_type": "code",
   "execution_count": 1,
   "id": "0de212f9",
   "metadata": {},
   "outputs": [],
   "source": [
    "# Intialization\n",
    "import os\n",
    "import sys\n",
    "\n",
    "os.environ[\"SPARK_HOME\"] = \"/home/talentum/spark\"\n",
    "os.environ[\"PYLIB\"] = os.environ[\"SPARK_HOME\"] + \"/python/lib\"\n",
    "# In below two lines, use /usr/bin/python2.7 if you want to use Python 2\n",
    "os.environ[\"PYSPARK_PYTHON\"] = \"/usr/bin/python3.6\" \n",
    "os.environ[\"PYSPARK_DRIVER_PYTHON\"] = \"/usr/bin/python3\"\n",
    "sys.path.insert(0, os.environ[\"PYLIB\"] +\"/py4j-0.10.7-src.zip\")\n",
    "sys.path.insert(0, os.environ[\"PYLIB\"] +\"/pyspark.zip\")\n",
    "\n",
    "# NOTE: Whichever package you want mention here.\n",
    "# os.environ['PYSPARK_SUBMIT_ARGS'] = '--packages com.databricks:spark-xml_2.11:0.6.0 pyspark-shell' \n",
    "# os.environ['PYSPARK_SUBMIT_ARGS'] = '--packages org.apache.spark:spark-avro_2.11:2.4.0 pyspark-shell'\n",
    "os.environ['PYSPARK_SUBMIT_ARGS'] = '--packages com.databricks:spark-xml_2.11:0.6.0,org.apache.spark:spark-avro_2.11:2.4.3 pyspark-shell'\n",
    "# os.environ['PYSPARK_SUBMIT_ARGS'] = '--packages com.databricks:spark-xml_2.11:0.6.0,org.apache.spark:spark-avro_2.11:2.4.0 pyspark-shell'"
   ]
  },
  {
   "cell_type": "code",
   "execution_count": 2,
   "id": "cc0b6d9b",
   "metadata": {},
   "outputs": [],
   "source": [
    "#Entrypoint 2.x\n",
    "from pyspark.sql import SparkSession\n",
    "spark = SparkSession.builder.appName(\"Spark SQL basic example\").enableHiveSupport().getOrCreate()\n",
    "\n",
    "# On yarn:\n",
    "# spark = SparkSession.builder.appName(\"Spark SQL basic example\").enableHiveSupport().master(\"yarn\").getOrCreate()\n",
    "# specify .master(\"yarn\")\n",
    "\n",
    "sc = spark.sparkContext\n",
    "# Store the DataFrame into a Hive table by selecting County, City, State, Make, Model, Electric\n",
    "\n",
    "# Vehicle Type into Hive Table EVMS_US with partitioning done on columns State, City and County."
   ]
  },
  {
   "cell_type": "code",
   "execution_count": 22,
   "id": "87d70cfc",
   "metadata": {},
   "outputs": [
    {
     "name": "stdout",
     "output_type": "stream",
     "text": [
      "+--------------------+----+-----+---+\n",
      "|               Split|year|Month|Day|\n",
      "+--------------------+----+-----+---+\n",
      "|[year, month, day...|year|month|day|\n",
      "|[2008, 4, 1, 1, 2...|2008|    4|  1|\n",
      "|[2008, 4, 1, 2, 2...|2008|    4|  1|\n",
      "|[2008, 4, 1, 3, 2...|2008|    4|  1|\n",
      "|[2008, 4, 1, 4, 2...|2008|    4|  1|\n",
      "|[2008, 4, 1, 5, 2...|2008|    4|  1|\n",
      "|[2008, 4, 1, 6, 2...|2008|    4|  1|\n",
      "|[2008, 4, 1, 7, 2...|2008|    4|  1|\n",
      "|[2008, 4, 1, 8, 2...|2008|    4|  1|\n",
      "|[2008, 4, 1, 9, 2...|2008|    4|  1|\n",
      "+--------------------+----+-----+---+\n",
      "only showing top 10 rows\n",
      "\n"
     ]
    }
   ],
   "source": [
    "from pyspark.sql.types import *\n",
    "import pyspark.sql.functions as F\n",
    "file_path = \"file:///home/talentum/shared/Project/e-shop clothing 2008.csv\"\n",
    "inputDF=spark.read.csv(file_path)\n",
    "inputDF=inputDF.withColumn('Split',F.split(inputDF._c0,';')).drop(inputDF._c0)\n",
    "inputDF=inputDF.withColumn('Year',inputDF.Split.getItem(0))\n",
    "inputDF=inputDF.withColumn('Month',inputDF.Split.getItem(1))\n",
    "inputDF=inputDF.withColumn('Day',inputDF.Split.getItem(2))\n",
    "inputDF=inputDF.withColumn('Order',inputDF.Split.getItem(3))\n",
    "inputDF=inputDF.withColumn('Country',inputDF.Split.getItem(4))\n",
    "inputDF=inputDF.withColumn('Session_ID',inputDF.Split.getItem(5))\n",
    "inputDF=inputDF.withColumn('Main_Category',inputDF.Split.getItem(6))\n",
    "inputDF=inputDF.withColumn('Clothing_Model',inputDF.Split.getItem(7))\n",
    "inputDF=inputDF.withColumn('Colour',inputDF.Split.getItem(8))\n",
    "inputDF=inputDF.withColumn('Location',inputDF.Split.getItem(9))\n",
    "inputDF=inputDF.withColumn('Model_Photography',inputDF.Split.getItem(10))\n",
    "inputDF=inputDF.withColumn('Price(Dollar)',inputDF.Split.getItem(11))\n",
    "inputDF=inputDF.withColumn('Price_Info',inputDF.Split.getItem(12))\n",
    "inputDF=inputDF.withColumn('Page',inputDF.Split.getItem(13))\n",
    "inputDF.show(10)\n",
    "\n",
    "\n"
   ]
  }
 ],
 "metadata": {
  "kernelspec": {
   "display_name": "Python 3",
   "language": "python",
   "name": "python3"
  },
  "language_info": {
   "codemirror_mode": {
    "name": "ipython",
    "version": 3
   },
   "file_extension": ".py",
   "mimetype": "text/x-python",
   "name": "python",
   "nbconvert_exporter": "python",
   "pygments_lexer": "ipython3",
   "version": "3.6.9"
  }
 },
 "nbformat": 4,
 "nbformat_minor": 5
}
