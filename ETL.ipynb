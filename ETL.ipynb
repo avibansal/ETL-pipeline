{
  "nbformat": 4,
  "nbformat_minor": 0,
  "metadata": {
    "colab": {
      "provenance": []
    },
    "kernelspec": {
      "name": "python3",
      "display_name": "Python 3"
    },
    "language_info": {
      "name": "python"
    }
  },
  "cells": [
    {
      "cell_type": "code",
      "execution_count": null,
      "metadata": {
        "colab": {
          "base_uri": "https://localhost:8080/"
        },
        "id": "9iLsEHFO76f7",
        "outputId": "f5961648-aeda-4516-8047-7e8bb62cce7e"
      },
      "outputs": [
        {
          "output_type": "stream",
          "name": "stdout",
          "text": [
            "Collecting boto3\n",
            "  Downloading boto3-1.35.0-py3-none-any.whl.metadata (6.6 kB)\n",
            "Collecting botocore<1.36.0,>=1.35.0 (from boto3)\n",
            "  Downloading botocore-1.35.0-py3-none-any.whl.metadata (5.7 kB)\n",
            "Collecting jmespath<2.0.0,>=0.7.1 (from boto3)\n",
            "  Downloading jmespath-1.0.1-py3-none-any.whl.metadata (7.6 kB)\n",
            "Collecting s3transfer<0.11.0,>=0.10.0 (from boto3)\n",
            "  Downloading s3transfer-0.10.2-py3-none-any.whl.metadata (1.7 kB)\n",
            "Requirement already satisfied: python-dateutil<3.0.0,>=2.1 in /usr/local/lib/python3.10/dist-packages (from botocore<1.36.0,>=1.35.0->boto3) (2.8.2)\n",
            "Requirement already satisfied: urllib3!=2.2.0,<3,>=1.25.4 in /usr/local/lib/python3.10/dist-packages (from botocore<1.36.0,>=1.35.0->boto3) (2.0.7)\n",
            "Requirement already satisfied: six>=1.5 in /usr/local/lib/python3.10/dist-packages (from python-dateutil<3.0.0,>=2.1->botocore<1.36.0,>=1.35.0->boto3) (1.16.0)\n",
            "Downloading boto3-1.35.0-py3-none-any.whl (139 kB)\n",
            "\u001b[2K   \u001b[90m━━━━━━━━━━━━━━━━━━━━━━━━━━━━━━━━━━━━━━━━\u001b[0m \u001b[32m139.1/139.1 kB\u001b[0m \u001b[31m5.8 MB/s\u001b[0m eta \u001b[36m0:00:00\u001b[0m\n",
            "\u001b[?25hDownloading botocore-1.35.0-py3-none-any.whl (12.5 MB)\n",
            "\u001b[2K   \u001b[90m━━━━━━━━━━━━━━━━━━━━━━━━━━━━━━━━━━━━━━━━\u001b[0m \u001b[32m12.5/12.5 MB\u001b[0m \u001b[31m67.9 MB/s\u001b[0m eta \u001b[36m0:00:00\u001b[0m\n",
            "\u001b[?25hDownloading jmespath-1.0.1-py3-none-any.whl (20 kB)\n",
            "Downloading s3transfer-0.10.2-py3-none-any.whl (82 kB)\n",
            "\u001b[2K   \u001b[90m━━━━━━━━━━━━━━━━━━━━━━━━━━━━━━━━━━━━━━━━\u001b[0m \u001b[32m82.7/82.7 kB\u001b[0m \u001b[31m7.5 MB/s\u001b[0m eta \u001b[36m0:00:00\u001b[0m\n",
            "\u001b[?25hInstalling collected packages: jmespath, botocore, s3transfer, boto3\n",
            "Successfully installed boto3-1.35.0 botocore-1.35.0 jmespath-1.0.1 s3transfer-0.10.2\n"
          ]
        }
      ],
      "source": [
        "pip install boto3"
      ]
    },
    {
      "cell_type": "markdown",
      "source": [
        "#Define your AWS access key and secret key"
      ],
      "metadata": {
        "id": "BMsU9DdW9pn3"
      }
    },
    {
      "cell_type": "code",
      "source": [
        "import boto3\n",
        "import os\n"
      ],
      "metadata": {
        "id": "TVjThJaX9m8l"
      },
      "execution_count": null,
      "outputs": []
    },
    {
      "cell_type": "markdown",
      "source": [
        "#Creating bucket to store Input streaming data"
      ],
      "metadata": {
        "id": "rzDyYoWp92av"
      }
    },
    {
      "cell_type": "code",
      "source": [
        "s3 = boto3.client('s3', aws_access_key_id=AWS_ACCESS_KEY_ID,\n",
        "                         aws_secret_access_key=AWS_SECRET_ACCESS_KEY)\n",
        "\n",
        "# Define your AWS region\n",
        "AWS_REGION = 'ap-south-1'  # Replace with your desired region\n",
        "\n",
        "# Create an S3 client\n",
        "s3 = boto3.client('s3', aws_access_key_id=AWS_ACCESS_KEY_ID,aws_secret_access_key=AWS_SECRET_ACCESS_KEY,region_name=AWS_REGION)\n",
        "\n",
        "# Create a bucket\n",
        "bucket_name = 'raw-data-input1'\n",
        "s3.create_bucket(Bucket=bucket_name,\n",
        "                 CreateBucketConfiguration={\n",
        "                     'LocationConstraint': AWS_REGION\n",
        "                 })"
      ],
      "metadata": {
        "colab": {
          "base_uri": "https://localhost:8080/"
        },
        "id": "Z2WLhM7o91IL",
        "outputId": "1d776f5c-4d07-47c0-98ba-4255b3ebd43a"
      },
      "execution_count": null,
      "outputs": [
        {
          "output_type": "execute_result",
          "data": {
            "text/plain": [
              "{'ResponseMetadata': {'RequestId': 'J9FWF3J0J33MHPBF',\n",
              "  'HostId': 'enjARXJnH5h4vIoNN/7O6LMx3ZuIZnk97TTTeScfI5PLvSa1sVBhmGz2nHk0j4kOFdgkSCBC8eqwtwo5WdIV+A==',\n",
              "  'HTTPStatusCode': 200,\n",
              "  'HTTPHeaders': {'x-amz-id-2': 'enjARXJnH5h4vIoNN/7O6LMx3ZuIZnk97TTTeScfI5PLvSa1sVBhmGz2nHk0j4kOFdgkSCBC8eqwtwo5WdIV+A==',\n",
              "   'x-amz-request-id': 'J9FWF3J0J33MHPBF',\n",
              "   'date': 'Sat, 17 Aug 2024 08:04:59 GMT',\n",
              "   'location': 'http://raw-data-input1.s3.amazonaws.com/',\n",
              "   'server': 'AmazonS3',\n",
              "   'content-length': '0'},\n",
              "  'RetryAttempts': 0},\n",
              " 'Location': 'http://raw-data-input1.s3.amazonaws.com/'}"
            ]
          },
          "metadata": {},
          "execution_count": 5
        }
      ]
    },
    {
      "cell_type": "markdown",
      "source": [
        "#Creating Streaming Data\n"
      ],
      "metadata": {
        "id": "8b-qzPsD-gjf"
      }
    },
    {
      "cell_type": "code",
      "source": [
        "!split -l 200 \"/content/New 1000 Sales Records.txt\" click_stream_"
      ],
      "metadata": {
        "id": "u3ZGG1nw9_Rn"
      },
      "execution_count": null,
      "outputs": []
    },
    {
      "cell_type": "markdown",
      "source": [
        "#Loading raw data to the S3 bucket"
      ],
      "metadata": {
        "id": "8VmZ5III-oYg"
      }
    },
    {
      "cell_type": "code",
      "source": [
        "import sys\n",
        "import time\n",
        "import glob\n",
        "s3_resource = boto3.resource('s3',region_name='ap-south-1')\n",
        "print(\"Uploading a file ....\")\n",
        "bucket_name= \"raw-data-input1\"\n",
        "def func(a,b):\n",
        "  local_file_name = a\n",
        "  s3_file_name=b\n",
        "\n",
        "  s3_resource.Bucket(bucket_name).upload_file(Filename=local_file_name, Key=s3_file_name)\n",
        "  print(\"File upload completed!\")\n",
        "file_name=glob.glob('click_stream*')\n",
        "file_path=[os.path.abspath(filename) for filename in file_name]\n",
        "\n",
        "for i,j in zip(file_path,file_name):\n",
        "  # time.sleep(5)\n",
        "  func(i,j)"
      ],
      "metadata": {
        "colab": {
          "base_uri": "https://localhost:8080/"
        },
        "id": "fzK7zVyC-lGM",
        "outputId": "1382821d-1698-4a9e-d6b9-96ff90cf149b"
      },
      "execution_count": null,
      "outputs": [
        {
          "output_type": "stream",
          "name": "stdout",
          "text": [
            "Uploading a file ....\n",
            "File upload completed!\n",
            "File upload completed!\n",
            "File upload completed!\n",
            "File upload completed!\n",
            "File upload completed!\n",
            "File upload completed!\n"
          ]
        }
      ]
    },
    {
      "cell_type": "markdown",
      "source": [
        "#Creating S3 bucket for storing output"
      ],
      "metadata": {
        "id": "GVI6KcYqBQjR"
      }
    },
    {
      "cell_type": "code",
      "source": [
        "s3 = boto3.client('s3', aws_access_key_id=AWS_ACCESS_KEY_ID,\n",
        "                         aws_secret_access_key=AWS_SECRET_ACCESS_KEY)\n",
        "\n",
        "# Define your AWS region\n",
        "AWS_REGION = 'ap-south-1'  # Replace with your desired region\n",
        "\n",
        "# Create an S3 client\n",
        "s3 = boto3.client('s3', aws_access_key_id=AWS_ACCESS_KEY_ID,aws_secret_access_key=AWS_SECRET_ACCESS_KEY,region_name=AWS_REGION)\n",
        "\n",
        "# Create a bucket\n",
        "bucket_name = 'raw-data-output'\n",
        "s3.create_bucket(Bucket=bucket_name,\n",
        "                 CreateBucketConfiguration={\n",
        "                     'LocationConstraint': AWS_REGION\n",
        "                 })"
      ],
      "metadata": {
        "colab": {
          "base_uri": "https://localhost:8080/"
        },
        "id": "X0zFSXzfBWox",
        "outputId": "6ff8a046-89c1-44c7-d1cf-5c8f03cd0488"
      },
      "execution_count": null,
      "outputs": [
        {
          "output_type": "execute_result",
          "data": {
            "text/plain": [
              "{'ResponseMetadata': {'RequestId': '739F2BEGBXQANQB1',\n",
              "  'HostId': 'pZkebxXgIK157HWenWuCbYD8R9VkAn1eG3ZwhxUh8OjeDHkJm5Lc7ROsAbc6MZCwgeiTkhKjUmZdjRGvYJKzKQ==',\n",
              "  'HTTPStatusCode': 200,\n",
              "  'HTTPHeaders': {'x-amz-id-2': 'pZkebxXgIK157HWenWuCbYD8R9VkAn1eG3ZwhxUh8OjeDHkJm5Lc7ROsAbc6MZCwgeiTkhKjUmZdjRGvYJKzKQ==',\n",
              "   'x-amz-request-id': '739F2BEGBXQANQB1',\n",
              "   'date': 'Sat, 17 Aug 2024 08:45:55 GMT',\n",
              "   'location': 'http://raw-data-output.s3.amazonaws.com/',\n",
              "   'server': 'AmazonS3',\n",
              "   'content-length': '0'},\n",
              "  'RetryAttempts': 0},\n",
              " 'Location': 'http://raw-data-output.s3.amazonaws.com/'}"
            ]
          },
          "metadata": {},
          "execution_count": 24
        }
      ]
    },
    {
      "cell_type": "markdown",
      "source": [
        "#AWS Lambda code to combining streaming data(AmazonS3FullAccess : add policy to lambda) + Add pandas layer"
      ],
      "metadata": {
        "id": "KywGixF2Bfq5"
      }
    },
    {
      "cell_type": "code",
      "source": [
        "import json\n",
        "import boto3\n",
        "import io\n",
        "import pandas as pd\n",
        "\n",
        "def lambda_handler(event, context):\n",
        "    s3 = boto3.client(\"s3\")\n",
        "    response = s3.list_objects_v2(Bucket=bucket_name)\n",
        "\n",
        "# Initialize an empty list to store file names\n",
        "    list_input = []\n",
        "\n",
        "# Check if the bucket has objects\n",
        "    if 'Contents' in response:\n",
        "      for item in response['Contents']:\n",
        "        list_input.append(item['Key'])\n",
        "\n",
        "    input_bucket = \"raw-data-input\"\n",
        "    # list_input = [\"aa\", \"ab\",\"ac\",\"ad\",\"ae\"]\n",
        "    dataframes = []\n",
        "    output_bucket = \"raw-data-output\"\n",
        "    output_key = \"combined_data.csv\"\n",
        "\n",
        "    for key in list_input:\n",
        "        response = s3.get_object(Bucket=input_bucket, Key=key)\n",
        "        csv_content = response['Body'].read().decode('utf-8')\n",
        "        df = pd.read_csv(io.StringIO(csv_content),header=None)\n",
        "        dataframes.append(df)\n",
        "\n",
        "    if dataframes:\n",
        "        combined_df = pd.concat(dataframes)\n",
        "\n",
        "        #Data uploading part\n",
        "        csv_buffer = io.StringIO()\n",
        "        combined_df.to_csv(csv_buffer, index=False)\n",
        "        csv_bytes = csv_buffer.getvalue().encode('utf-8')\n",
        "        s3.put_object(Bucket=output_bucket, Key=output_key, Body=csv_bytes)"
      ],
      "metadata": {
        "id": "7T5N3BY0BaIK"
      },
      "execution_count": null,
      "outputs": []
    },
    {
      "cell_type": "markdown",
      "source": [
        "#Redshift (Load s3 bucket into redshift)"
      ],
      "metadata": {
        "id": "9sw4YGDBBwrF"
      }
    },
    {
      "cell_type": "markdown",
      "source": [
        "*   Load s3 bucket into table trial and make it public\n",
        "*   GRANT SELECT ON TABLE \"dev\".\"public\".\"trial\" TO PUBLIC;\n",
        "\n"
      ],
      "metadata": {
        "id": "wNMDcLhNOrcG"
      }
    },
    {
      "cell_type": "code",
      "source": [
        "pip install boto3 psycopg2"
      ],
      "metadata": {
        "colab": {
          "base_uri": "https://localhost:8080/"
        },
        "id": "StJUoVkJBhGo",
        "outputId": "c53c452e-46d6-4141-f469-beb3e5256865"
      },
      "execution_count": null,
      "outputs": [
        {
          "output_type": "stream",
          "name": "stdout",
          "text": [
            "Requirement already satisfied: boto3 in /usr/local/lib/python3.10/dist-packages (1.34.158)\n",
            "Requirement already satisfied: psycopg2 in /usr/local/lib/python3.10/dist-packages (2.9.9)\n",
            "Requirement already satisfied: botocore<1.35.0,>=1.34.158 in /usr/local/lib/python3.10/dist-packages (from boto3) (1.34.158)\n",
            "Requirement already satisfied: jmespath<2.0.0,>=0.7.1 in /usr/local/lib/python3.10/dist-packages (from boto3) (1.0.1)\n",
            "Requirement already satisfied: s3transfer<0.11.0,>=0.10.0 in /usr/local/lib/python3.10/dist-packages (from boto3) (0.10.2)\n",
            "Requirement already satisfied: python-dateutil<3.0.0,>=2.1 in /usr/local/lib/python3.10/dist-packages (from botocore<1.35.0,>=1.34.158->boto3) (2.8.2)\n",
            "Requirement already satisfied: urllib3!=2.2.0,<3,>=1.25.4 in /usr/local/lib/python3.10/dist-packages (from botocore<1.35.0,>=1.34.158->boto3) (2.0.7)\n",
            "Requirement already satisfied: six>=1.5 in /usr/local/lib/python3.10/dist-packages (from python-dateutil<3.0.0,>=2.1->botocore<1.35.0,>=1.34.158->boto3) (1.16.0)\n"
          ]
        }
      ]
    },
    {
      "cell_type": "code",
      "source": [
        "import boto3\n",
        "import psycopg2\n",
        "import json\n",
        "def func_query(sql_query):\n",
        "# Initialize a session using Amazon Redshift Serverless\n",
        "  session = boto3.Session(\n",
        "      aws_access_key_id=AWS_ACCESS_KEY_ID,\n",
        "      aws_secret_access_key=AWS_SECRET_ACCESS_KEY,\n",
        "      region_name='ap-south-1'\n",
        "  )\n",
        "\n",
        "# Get the Redshift Data API client\n",
        "  client = session.client('redshift-data')\n",
        "\n",
        "# Set the database name, workgroup name, and other required variables\n",
        "  database = 'dev'\n",
        "  workgroup_name = 'default-workgroup'  # Use workgroup name for Redshift Serverless\n",
        "  db_user = 'admin'\n",
        "  password = 'avi.bansal3A'\n",
        "# sql_query = 'SELECT * FROM \"dev\".\"public\".\"project_table\" limit 10;'\n",
        "\n",
        "\n",
        "# Execute the SQL query using WorkgroupName for Redshift Serverless\n",
        "  response = client.execute_statement(\n",
        "      Database=database,\n",
        "      WorkgroupName=workgroup_name,  # Use WorkgroupName instead of ClusterIdentifier\n",
        "    # DbUser=db_user,\n",
        "      Sql=sql_query\n",
        "  )\n",
        "\n",
        "# Get the query ID from the response\n",
        "  query_id = response['Id']\n",
        "\n",
        "  while True:\n",
        "      status = client.describe_statement(Id=query_id)\n",
        "      if status['Status'] in ['STARTED', 'SUBMITTED']:\n",
        "          continue\n",
        "      elif status['Status'] in ['FINISHED', 'FAILED']:\n",
        "          break\n",
        "\n",
        "# Fetch the results\n",
        "  if status['Status'] == 'FINISHED':\n",
        "      result = client.get_statement_result(Id=query_id)\n",
        "      records = result['Records']\n",
        "      for record in records:\n",
        "          print(record)\n",
        "  else:\n",
        "      print(\"Query failed:\", status['Status'])\n",
        "      print(status)"
      ],
      "metadata": {
        "id": "raswmguhtDpk"
      },
      "execution_count": null,
      "outputs": []
    },
    {
      "cell_type": "markdown",
      "source": [
        "#Selecting First 10 rows"
      ],
      "metadata": {
        "id": "Qo_VGGPlwccd"
      }
    },
    {
      "cell_type": "code",
      "source": [
        "func_query(\"SELECT * FROM public.project_table limit 10;\")"
      ],
      "metadata": {
        "colab": {
          "base_uri": "https://localhost:8080/"
        },
        "id": "NWD7EHAXwERY",
        "outputId": "ca1a342c-2b2f-4b94-83c8-3ae351c93aac"
      },
      "execution_count": null,
      "outputs": [
        {
          "output_type": "stream",
          "name": "stdout",
          "text": [
            "[{'stringValue': 'Middle East and North Africa'}, {'stringValue': 'Libya'}, {'longValue': 8446}]\n",
            "[{'stringValue': 'North America'}, {'stringValue': 'Canada'}, {'longValue': 3018}]\n",
            "[{'stringValue': 'Middle East and North Africa'}, {'stringValue': 'Libya'}, {'longValue': 1517}]\n",
            "[{'stringValue': 'Asia'}, {'stringValue': 'Japan'}, {'longValue': 3322}]\n",
            "[{'stringValue': 'Sub-Saharan Africa'}, {'stringValue': 'Chad'}, {'longValue': 9845}]\n",
            "[{'stringValue': 'Europe'}, {'stringValue': 'Armenia'}, {'longValue': 9528}]\n",
            "[{'stringValue': 'Sub-Saharan Africa'}, {'stringValue': 'Eritrea'}, {'longValue': 2844}]\n",
            "[{'stringValue': 'Europe'}, {'stringValue': 'Montenegro'}, {'longValue': 7299}]\n",
            "[{'stringValue': 'Central America and the Caribbean'}, {'stringValue': 'Jamaica'}, {'longValue': 2428}]\n",
            "[{'stringValue': 'Australia and Oceania'}, {'stringValue': 'Fiji'}, {'longValue': 4800}]\n"
          ]
        }
      ]
    },
    {
      "cell_type": "markdown",
      "source": [
        "#Selecting Regions"
      ],
      "metadata": {
        "id": "knkuKJtjwfFf"
      }
    },
    {
      "cell_type": "code",
      "source": [
        "func_query(\"SELECT region FROM public.project_table limit 10;\")"
      ],
      "metadata": {
        "colab": {
          "base_uri": "https://localhost:8080/"
        },
        "id": "AUGotAK8wHSL",
        "outputId": "2d21f702-1137-41ec-d585-3003c63f85ab"
      },
      "execution_count": null,
      "outputs": [
        {
          "output_type": "stream",
          "name": "stdout",
          "text": [
            "[{'stringValue': 'Middle East and North Africa'}]\n",
            "[{'stringValue': 'North America'}]\n",
            "[{'stringValue': 'Middle East and North Africa'}]\n",
            "[{'stringValue': 'Asia'}]\n",
            "[{'stringValue': 'Sub-Saharan Africa'}]\n",
            "[{'stringValue': 'Europe'}]\n",
            "[{'stringValue': 'Sub-Saharan Africa'}]\n",
            "[{'stringValue': 'Europe'}]\n",
            "[{'stringValue': 'Central America and the Caribbean'}]\n",
            "[{'stringValue': 'Australia and Oceania'}]\n"
          ]
        }
      ]
    },
    {
      "cell_type": "markdown",
      "source": [
        "#Top 5 country by sales"
      ],
      "metadata": {
        "id": "tVxvk_yWwjF3"
      }
    },
    {
      "cell_type": "code",
      "source": [
        "func_query(\"SELECT sales,country FROM public.project_table order by sales desc limit  5;\")"
      ],
      "metadata": {
        "colab": {
          "base_uri": "https://localhost:8080/"
        },
        "id": "AgbUUzcKwY-5",
        "outputId": "ca30d4df-c7fd-409d-ca8f-4a252d15ca0b"
      },
      "execution_count": null,
      "outputs": [
        {
          "output_type": "stream",
          "name": "stdout",
          "text": [
            "[{'longValue': 9998}, {'stringValue': 'Guinea-Bissau'}]\n",
            "[{'longValue': 9980}, {'stringValue': 'New Zealand'}]\n",
            "[{'longValue': 9958}, {'stringValue': 'Luxembourg'}]\n",
            "[{'longValue': 9951}, {'stringValue': 'Serbia'}]\n",
            "[{'longValue': 9950}, {'stringValue': 'Andorra'}]\n"
          ]
        }
      ]
    },
    {
      "cell_type": "markdown",
      "source": [
        "#Sales in Every Region"
      ],
      "metadata": {
        "id": "IyXfLrwBxNTz"
      }
    },
    {
      "cell_type": "code",
      "source": [
        "func_query(\"SELECT region,sum(sales) FROM public.project_table group by region;\")"
      ],
      "metadata": {
        "colab": {
          "base_uri": "https://localhost:8080/"
        },
        "id": "a-hNfSntws5Z",
        "outputId": "a10e49ff-4b24-4ff9-dfbe-008c75cca3b9"
      },
      "execution_count": null,
      "outputs": [
        {
          "output_type": "stream",
          "name": "stdout",
          "text": [
            "[{'stringValue': 'Middle East and North Africa'}, {'longValue': 682363}]\n",
            "[{'stringValue': 'North America'}, {'longValue': 100739}]\n",
            "[{'stringValue': 'Asia'}, {'longValue': 677524}]\n",
            "[{'stringValue': 'Sub-Saharan Africa'}, {'longValue': 1386894}]\n",
            "[{'stringValue': 'Europe'}, {'longValue': 1285808}]\n",
            "[{'stringValue': 'Central America and the Caribbean'}, {'longValue': 503362}]\n",
            "[{'stringValue': 'Australia and Oceania'}, {'longValue': 417298}]\n"
          ]
        }
      ]
    },
    {
      "cell_type": "markdown",
      "source": [
        "#Country Count in every region"
      ],
      "metadata": {
        "id": "LrOcWrbPyOLk"
      }
    },
    {
      "cell_type": "code",
      "source": [
        "func_query(\"SELECT region,count(distinct country) FROM public.project_table group by region;\")"
      ],
      "metadata": {
        "colab": {
          "base_uri": "https://localhost:8080/"
        },
        "id": "yiWBTy_Lxb92",
        "outputId": "0d0fa508-e8a2-468a-e1a4-46ec6ebd0c6a"
      },
      "execution_count": null,
      "outputs": [
        {
          "output_type": "stream",
          "name": "stdout",
          "text": [
            "[{'stringValue': 'Middle East and North Africa'}, {'longValue': 23}]\n",
            "[{'stringValue': 'North America'}, {'longValue': 4}]\n",
            "[{'stringValue': 'Asia'}, {'longValue': 27}]\n",
            "[{'stringValue': 'Sub-Saharan Africa'}, {'longValue': 48}]\n",
            "[{'stringValue': 'Europe'}, {'longValue': 48}]\n",
            "[{'stringValue': 'Central America and the Caribbean'}, {'longValue': 20}]\n",
            "[{'stringValue': 'Australia and Oceania'}, {'longValue': 15}]\n"
          ]
        }
      ]
    },
    {
      "cell_type": "markdown",
      "source": [
        "#Country Sales > average sales"
      ],
      "metadata": {
        "id": "zKUbqE_vzPC2"
      }
    },
    {
      "cell_type": "code",
      "source": [
        "func_query(\"SELECT distinct (Country) FROM public.project_table where sales >= (select avg(sales) FROM public.project_table) limit 10;\")"
      ],
      "metadata": {
        "colab": {
          "base_uri": "https://localhost:8080/"
        },
        "id": "LRmMBzxbx7gc",
        "outputId": "e91c78ca-19fe-418e-d54f-3c3300c172df"
      },
      "execution_count": null,
      "outputs": [
        {
          "output_type": "stream",
          "name": "stdout",
          "text": [
            "[{'stringValue': 'Libya'}]\n",
            "[{'stringValue': 'Chad'}]\n",
            "[{'stringValue': 'Armenia'}]\n",
            "[{'stringValue': 'Montenegro'}]\n",
            "[{'stringValue': 'Maldives'}]\n",
            "[{'stringValue': 'Senegal'}]\n",
            "[{'stringValue': 'Bulgaria'}]\n",
            "[{'stringValue': 'Algeria'}]\n",
            "[{'stringValue': 'Grenada'}]\n",
            "[{'stringValue': 'Mauritius '}]\n"
          ]
        }
      ]
    },
    {
      "cell_type": "code",
      "source": [],
      "metadata": {
        "id": "9LpfcQo-y4mr"
      },
      "execution_count": null,
      "outputs": []
    }
  ]
}