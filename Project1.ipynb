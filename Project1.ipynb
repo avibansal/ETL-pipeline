{
 "cells": [
  {
   "cell_type": "code",
   "execution_count": 68,
   "id": "0de212f9",
   "metadata": {},
   "outputs": [],
   "source": [
    "# Intialization\n",
    "import os\n",
    "import sys\n",
    "\n",
    "os.environ[\"SPARK_HOME\"] = \"/home/talentum/spark\"\n",
    "os.environ[\"PYLIB\"] = os.environ[\"SPARK_HOME\"] + \"/python/lib\"\n",
    "# In below two lines, use /usr/bin/python2.7 if you want to use Python 2\n",
    "os.environ[\"PYSPARK_PYTHON\"] = \"/usr/bin/python3.6\" \n",
    "os.environ[\"PYSPARK_DRIVER_PYTHON\"] = \"/usr/bin/python3\"\n",
    "sys.path.insert(0, os.environ[\"PYLIB\"] +\"/py4j-0.10.7-src.zip\")\n",
    "sys.path.insert(0, os.environ[\"PYLIB\"] +\"/pyspark.zip\")\n",
    "\n",
    "# NOTE: Whichever package you want mention here.\n",
    "# os.environ['PYSPARK_SUBMIT_ARGS'] = '--packages com.databricks:spark-xml_2.11:0.6.0 pyspark-shell' \n",
    "# os.environ['PYSPARK_SUBMIT_ARGS'] = '--packages org.apache.spark:spark-avro_2.11:2.4.0 pyspark-shell'\n",
    "os.environ['PYSPARK_SUBMIT_ARGS'] = '--packages com.databricks:spark-xml_2.11:0.6.0,org.apache.spark:spark-avro_2.11:2.4.3 pyspark-shell'\n",
    "# os.environ['PYSPARK_SUBMIT_ARGS'] = '--packages com.databricks:spark-xml_2.11:0.6.0,org.apache.spark:spark-avro_2.11:2.4.0 pyspark-shell'"
   ]
  },
  {
   "cell_type": "code",
   "execution_count": 69,
   "id": "cc0b6d9b",
   "metadata": {},
   "outputs": [],
   "source": [
    "#Entrypoint 2.x\n",
    "from pyspark.sql import SparkSession\n",
    "spark = SparkSession.builder.appName(\"Spark SQL basic example\").enableHiveSupport().getOrCreate()\n",
    "\n",
    "# On yarn:\n",
    "# spark = SparkSession.builder.appName(\"Spark SQL basic example\").enableHiveSupport().master(\"yarn\").getOrCreate()\n",
    "# specify .master(\"yarn\")\n",
    "\n",
    "sc = spark.sparkContext"
   ]
  },
  {
   "cell_type": "code",
   "execution_count": 70,
   "id": "5a2202d5",
   "metadata": {},
   "outputs": [],
   "source": [
    "from pyspark.sql.functions import *"
   ]
  },
  {
   "cell_type": "code",
   "execution_count": 71,
   "id": "2329aa63",
   "metadata": {},
   "outputs": [
    {
     "name": "stdout",
     "output_type": "stream",
     "text": [
      "+----+-----+---+-----+-------+----------+----------------------+-----------------------+------+--------+-----------------+-----+-------+----+\n",
      "|year|month|day|order|country|session ID|page 1 (main category)|page 2 (clothing model)|colour|location|model photography|price|price 2|page|\n",
      "+----+-----+---+-----+-------+----------+----------------------+-----------------------+------+--------+-----------------+-----+-------+----+\n",
      "|2008|    4|  1|    1|     29|         1|                     1|                    A13|     1|       5|                1|   28|      2|   1|\n",
      "|2008|    4|  1|    2|     29|         1|                     1|                    A16|     1|       6|                1|   33|      2|   1|\n",
      "|2008|    4|  1|    3|     29|         1|                     2|                     B4|    10|       2|                1|   52|      1|   1|\n",
      "|2008|    4|  1|    4|     29|         1|                     2|                    B17|     6|       6|                2|   38|      2|   1|\n",
      "|2008|    4|  1|    5|     29|         1|                     2|                     B8|     4|       3|                2|   52|      1|   1|\n",
      "+----+-----+---+-----+-------+----------+----------------------+-----------------------+------+--------+-----------------+-----+-------+----+\n",
      "only showing top 5 rows\n",
      "\n"
     ]
    }
   ],
   "source": [
    "file_path=\"file:///home/talentum/shared/Project_Avi/e-shop clothing 2008.csv\"\n",
    "#Loading Input File\n",
    "inputDF=spark.read.csv(file_path,sep=';',header=True,inferSchema=True)\n",
    "inputDF.show(5)"
   ]
  },
  {
   "cell_type": "code",
   "execution_count": 72,
   "id": "d4159ea4",
   "metadata": {},
   "outputs": [
    {
     "data": {
      "text/plain": [
       "['year',\n",
       " 'month',\n",
       " 'day',\n",
       " 'order',\n",
       " 'country',\n",
       " 'session_ID',\n",
       " 'Product_Category',\n",
       " 'Clothing_Model',\n",
       " 'colour',\n",
       " 'location',\n",
       " 'model_photography',\n",
       " 'price',\n",
       " 'price_2',\n",
       " 'page']"
      ]
     },
     "execution_count": 72,
     "metadata": {},
     "output_type": "execute_result"
    }
   ],
   "source": [
    "inputDF=inputDF.withColumnRenamed('page 1 (main category)','Product_Category')\n",
    "inputDF=inputDF.withColumnRenamed('page 2 (clothing model)','Clothing_Model')\n",
    "inputDF=inputDF.withColumnRenamed('session ID','session_ID')\n",
    "inputDF=inputDF.withColumnRenamed('model photography','model_photography')\n",
    "inputDF=inputDF.withColumnRenamed('price 2','price_2')\n",
    "\n",
    "inputDF.columns"
   ]
  },
  {
   "cell_type": "code",
   "execution_count": 73,
   "id": "6106b038",
   "metadata": {},
   "outputs": [],
   "source": [
    "#Analysing Features\n",
    "#year,month,day -> No use as it only contain value of smaller duration\n",
    "#Country -> Useful (main category for classification)"
   ]
  },
  {
   "cell_type": "code",
   "execution_count": 74,
   "id": "0c177530",
   "metadata": {},
   "outputs": [
    {
     "name": "stdout",
     "output_type": "stream",
     "text": [
      "year  :  1\n",
      "month  :  5\n",
      "day  :  31\n",
      "order  :  195\n",
      "country  :  47\n",
      "session_ID  :  24026\n",
      "Product_Category  :  4\n",
      "Clothing_Model  :  217\n",
      "colour  :  14\n",
      "location  :  6\n",
      "model_photography  :  2\n",
      "price  :  20\n",
      "price_2  :  2\n",
      "page  :  5\n"
     ]
    }
   ],
   "source": [
    "for column in inputDF.columns:\n",
    "    print(column,\" : \",inputDF.select(column).distinct().count())"
   ]
  },
  {
   "cell_type": "code",
   "execution_count": 75,
   "id": "0da3fe30",
   "metadata": {},
   "outputs": [],
   "source": [
    "#Analysing Features\n",
    "#year,month,day -> No use as it only contain value of smaller duration\n",
    "#order -> USeful \n",
    "#Country -> Useful (main category for classification)\n",
    "#session ID -> Useful\n",
    "# Product_Category,Clothing_Model,colour,location,model photography,price(dollar),price2,page -> Useful\n"
   ]
  },
  {
   "cell_type": "code",
   "execution_count": 76,
   "id": "7cecfc0b",
   "metadata": {},
   "outputs": [
    {
     "name": "stdout",
     "output_type": "stream",
     "text": [
      "+-----+-------+----------+----------------+--------------+------+--------+-----------------+-----+-------+----+\n",
      "|order|country|session_ID|Product_Category|Clothing_Model|colour|location|model_photography|price|price_2|page|\n",
      "+-----+-------+----------+----------------+--------------+------+--------+-----------------+-----+-------+----+\n",
      "|    1|     29|         1|               1|           A13|     1|       5|                1|   28|      2|   1|\n",
      "|    2|     29|         1|               1|           A16|     1|       6|                1|   33|      2|   1|\n",
      "|    3|     29|         1|               2|            B4|    10|       2|                1|   52|      1|   1|\n",
      "|    4|     29|         1|               2|           B17|     6|       6|                2|   38|      2|   1|\n",
      "|    5|     29|         1|               2|            B8|     4|       3|                2|   52|      1|   1|\n",
      "+-----+-------+----------+----------------+--------------+------+--------+-----------------+-----+-------+----+\n",
      "only showing top 5 rows\n",
      "\n"
     ]
    }
   ],
   "source": [
    "#Droping the columns \n",
    "inputDF1=inputDF.drop('year','month','day')\n",
    "inputDF1.show(5)"
   ]
  },
  {
   "cell_type": "code",
   "execution_count": 77,
   "id": "5b3f0909",
   "metadata": {},
   "outputs": [
    {
     "name": "stdout",
     "output_type": "stream",
     "text": [
      "order : 0\n",
      "country : 0\n",
      "session_ID : 0\n",
      "Product_Category : 0\n",
      "Clothing_Model : 0\n",
      "colour : 0\n",
      "location : 0\n",
      "model_photography : 0\n",
      "price : 0\n",
      "price_2 : 0\n",
      "page : 0\n"
     ]
    }
   ],
   "source": [
    "#Checking for NULL values\n",
    "for column in inputDF1.columns:\n",
    "    print(column,\":\",inputDF1.filter(col(column).isNull()).count())"
   ]
  },
  {
   "cell_type": "code",
   "execution_count": 78,
   "id": "4bb93f32",
   "metadata": {},
   "outputs": [],
   "source": [
    "#User-Session-level data\n",
    "inputDF2=inputDF1.groupBy('session_ID').count()\n",
    "#Data Engineering\n",
    "df_inner = inputDF1.join(inputDF2, on='session_ID', how='inner')\n"
   ]
  },
  {
   "cell_type": "code",
   "execution_count": 80,
   "id": "c58bd5df",
   "metadata": {},
   "outputs": [
    {
     "data": {
      "text/plain": [
       "['session_ID',\n",
       " 'order',\n",
       " 'country',\n",
       " 'Product_Category',\n",
       " 'Clothing_Model',\n",
       " 'colour',\n",
       " 'location',\n",
       " 'model_photography',\n",
       " 'price',\n",
       " 'price_2',\n",
       " 'page',\n",
       " 'count']"
      ]
     },
     "execution_count": 80,
     "metadata": {},
     "output_type": "execute_result"
    }
   ],
   "source": [
    "df_inner.columns"
   ]
  },
  {
   "cell_type": "code",
   "execution_count": 79,
   "id": "0ffea522",
   "metadata": {},
   "outputs": [],
   "source": [
    "df_inner = df_inner.coalesce(1)\n",
    "df_inner.write.csv(\"file:///home/talentum/preprocessed_data\")"
   ]
  },
  {
   "cell_type": "code",
   "execution_count": null,
   "id": "8ea4e49c",
   "metadata": {},
   "outputs": [],
   "source": []
  }
 ],
 "metadata": {
  "kernelspec": {
   "display_name": "Python 3",
   "language": "python",
   "name": "python3"
  },
  "language_info": {
   "codemirror_mode": {
    "name": "ipython",
    "version": 3
   },
   "file_extension": ".py",
   "mimetype": "text/x-python",
   "name": "python",
   "nbconvert_exporter": "python",
   "pygments_lexer": "ipython3",
   "version": "3.6.9"
  }
 },
 "nbformat": 4,
 "nbformat_minor": 5
}
